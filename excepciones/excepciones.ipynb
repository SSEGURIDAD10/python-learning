{
 "cells": [
  {
   "cell_type": "code",
   "execution_count": null,
   "metadata": {},
   "outputs": [],
   "source": [
    "#Manejo de Excepciones\n",
    "\n",
    "def suma_dos():\n",
    "    while True:\n",
    "        a = input(\"Numero 1: \")\n",
    "        b = input(\"Numero 2: \")\n",
    "        try:\n",
    "            resultado = int(a) + int(b)\n",
    "        # except es la manera de dar una salida al error; la clase Exception es la forma de entrar al error\n",
    "        except Exception as e:\n",
    "            print('Necesitas numero, no textos')\n",
    "            # Asi se muestra lo que esta generando el error\n",
    "            print(f'ERROR: {e}')\n",
    "            # Asi descubres el nombre especifico del error y lo puedes manejar de mejor manera como ValueError o ZeroDivisionError\n",
    "            print(f'ERROR: {type(e).__name__}')\n",
    "        # except ValueError:\n",
    "        #     print('')\n",
    "        # except ZeroDivisionError::\n",
    "        #     print('')\n",
    "        # else funciona si se cumple el try, y break termina el ciclo while\n",
    "        else:\n",
    "            break\n",
    "        # finally siempre se ejecutara si o si\n",
    "        finally:\n",
    "            print('Esto se ejecutara siempre')\n",
    "    return resultado\n",
    "\n",
    "print(suma_dos())"
   ]
  },
  {
   "cell_type": "code",
   "execution_count": null,
   "metadata": {},
   "outputs": [],
   "source": [
    "class MiExcepcion(Exception):\n",
    "    def __init__(self, err):\n",
    "        print(f'Cometiste el siguiente error: ({err})')\n",
    "\n",
    "# Esto directamente me provoca una exception\n",
    "# raise ZeroDivisionError('Que tonoto, diviste entre 0')\n",
    "\n",
    "try:\n",
    "    raise MiExcepcion('Hola, del try')\n",
    "except:\n",
    "    print('Hola, del except')"
   ]
  }
 ],
 "metadata": {
  "kernelspec": {
   "display_name": "Python 3",
   "language": "python",
   "name": "python3"
  },
  "language_info": {
   "codemirror_mode": {
    "name": "ipython",
    "version": 3
   },
   "file_extension": ".py",
   "mimetype": "text/x-python",
   "name": "python",
   "nbconvert_exporter": "python",
   "pygments_lexer": "ipython3",
   "version": "3.12.4"
  }
 },
 "nbformat": 4,
 "nbformat_minor": 2
}
