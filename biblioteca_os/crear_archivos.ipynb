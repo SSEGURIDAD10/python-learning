{
 "cells": [
  {
   "cell_type": "code",
   "execution_count": 5,
   "metadata": {},
   "outputs": [
    {
     "name": "stdout",
     "output_type": "stream",
     "text": [
      "Listo!\n"
     ]
    }
   ],
   "source": [
    "# La siguiente biblioteca permite interactur con el sistema operativo\n",
    "import os\n",
    "\n",
    "# Definir la estructura de directorios y archivos\n",
    "crear_estructura = {\n",
    "    \"proyecto/src/\": [\"index.py\"],\n",
    "    \"proyecto/modules/\": [\"index.py\"],\n",
    "    \"proyecto/\": [\"README.md\"]\n",
    "}\n",
    "\n",
    "# Crear directorios y archivos\n",
    "for directorio, archivos in crear_estructura.items():\n",
    "    os.makedirs(directorio, exist_ok=True)\n",
    "    for archivo in archivos:\n",
    "        ruta_archivo = os.path.join(directorio, archivo)\n",
    "        with open(ruta_archivo, 'w') as f:\n",
    "            pass  # Crear un archivo vacío\n",
    "\n",
    "print(\"Listo!\")"
   ]
  },
  {
   "cell_type": "code",
   "execution_count": 62,
   "metadata": {},
   "outputs": [
    {
     "name": "stdout",
     "output_type": "stream",
     "text": [
      "c:\\Users\\LUISB\\OneDrive\\Documentos\\SoyDalto\\python\\biblioteca_os\n",
      "c:\\Users\\LUISB\\OneDrive\\Documentos\\SoyDalto\\python\\biblioteca_os\n",
      "['crear_archivos.ipynb', 'proyecto', 'proyecto2']\n",
      "['index.py']\n",
      "c:\\Users\\LUISB\\OneDrive\\Documentos\\SoyDalto\\python\\biblioteca_os\\proyecto2\n",
      "True\n",
      "True\n",
      "c:\\Users\\LUISB\\OneDrive\\Documentos\\SoyDalto\\python\\biblioteca_os\\proyecto2\n",
      "C:\\Users\\LUISB\\OneDrive\\Documentos\\SoyDalto\\python\\biblioteca_os\\proyecto2\n",
      "proyecto2\n",
      "\n",
      "0\n"
     ]
    }
   ],
   "source": [
    "import os\n",
    "from pathlib import Path\n",
    "\n",
    "# Ruta donde se ejecuta el script\n",
    "print(os.getcwd())\n",
    "print(Path.cwd())\n",
    "\n",
    "# Ver el contenido de un directorio con os\n",
    "print(os.listdir())\n",
    "print(os.listdir('proyecto/modules'))\n",
    "\n",
    "# Unir paths/rutas\n",
    "print(os.path.join(os.getcwd(),'proyecto2'))\n",
    "\n",
    "# Crear una carpeta\n",
    "# os.mkdir()\n",
    "\n",
    "# Crear varias carpetas\n",
    "os.makedirs(os.path.join('proyecto2','Scripts'), exist_ok=True)\n",
    "\n",
    "# Renombrar\n",
    "# os.rename('proyecto2', 'proyecto-2')\n",
    "\n",
    "# Renombrar todos los archivos con terminacion... en os\n",
    "# for file in os.listdir():\n",
    "#     if file.endswith('.csv'):\n",
    "#         os.rename(file, f'2024_{file}')\n",
    "\n",
    "# Renombrar todos los archivos con terminacion... en Path\n",
    "# path_actual = Path('proyecto2')\n",
    "# path_nuevo = Path('proyecto-2')\n",
    "\n",
    "# Path.rename(path_actual, path_nuevo)\n",
    "\n",
    "# Saber si una carpeta existe con os\n",
    "print(os.path.exists('proyecto2'))\n",
    "\n",
    "# Saber si una carpeta existe con Path\n",
    "archivoPath = Path('proyecto2')\n",
    "print(archivoPath.exists())\n",
    "\n",
    "# Metadatos, ruta absolta en os y Path\n",
    "print(os.path.abspath('proyecto2'))\n",
    "\n",
    "script = Path('proyecto2')\n",
    "print(script.resolve())\n",
    "# Nombre del archivo\n",
    "print(script.stem)\n",
    "# Extension\n",
    "print(script.suffix)\n",
    "# Tamaño de archivo\n",
    "print(script.stat().st_size)"
   ]
  }
 ],
 "metadata": {
  "kernelspec": {
   "display_name": "Python 3",
   "language": "python",
   "name": "python3"
  },
  "language_info": {
   "codemirror_mode": {
    "name": "ipython",
    "version": 3
   },
   "file_extension": ".py",
   "mimetype": "text/x-python",
   "name": "python",
   "nbconvert_exporter": "python",
   "pygments_lexer": "ipython3",
   "version": "3.12.4"
  }
 },
 "nbformat": 4,
 "nbformat_minor": 2
}
