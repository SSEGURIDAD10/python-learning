{
 "cells": [
  {
   "cell_type": "code",
   "execution_count": 2,
   "metadata": {},
   "outputs": [],
   "source": [
    "# Escribiendo un archivo .txt\n",
    "nombres = [\"Gerardo\", \"Diana\", \"Diego\"]\n",
    "apellidos = [\"Villagran\", \"Mendez\", \"Villagran\"]\n",
    "\n",
    "with open(\"nombres_apellidos.txt\", \"w\", encoding=\"UTF-8\") as archivo_txt:\n",
    "    archivo_txt.writelines(\"Los datos son:\\n\\n\")\n",
    "    [archivo_txt.writelines(f\"Nombre: {n}\\nApellido: {a}\\n-----------------\\n\") for n,a in zip(nombres,apellidos)]"
   ]
  },
  {
   "cell_type": "code",
   "execution_count": 1,
   "metadata": {},
   "outputs": [
    {
     "name": "stdout",
     "output_type": "stream",
     "text": [
      "  nombre   apellido edad\n",
      "0   Luis  villagran   23\n",
      "1  diana     mendez   25\n",
      "2  diego  villagran   12\n"
     ]
    },
    {
     "name": "stderr",
     "output_type": "stream",
     "text": [
      "C:\\Users\\LUISB\\AppData\\Local\\Temp\\ipykernel_3732\\1412823863.py:9: FutureWarning: A value is trying to be set on a copy of a DataFrame or Series through chained assignment using an inplace method.\n",
      "The behavior will change in pandas 3.0. This inplace method will never work because the intermediate object on which we are setting values always behaves as a copy.\n",
      "\n",
      "For example, when doing 'df[col].method(value, inplace=True)', try using 'df.method({col: value}, inplace=True)' or df[col] = df[col].method(value) instead, to perform the operation inplace on the original object.\n",
      "\n",
      "\n",
      "  df['nombre'].replace(\"gerardo\", \"Luis\", inplace=True)\n"
     ]
    }
   ],
   "source": [
    "# Cambiar el tipo de dato de una columna\n",
    "import pandas as pd\n",
    "df = pd.read_csv(\"datos.csv\")\n",
    "\n",
    "# Convertir los datos de la columna a string\n",
    "df['edad'] = df['edad'].astype(str)\n",
    "\n",
    "# Remplazar datos, Gerardo por Luis\n",
    "df['nombre'].replace(\"gerardo\", \"Luis\", inplace=True)\n",
    "\n",
    "# Eliminar filas con datos vacios (Rellena vacios con NaN) / df.dropna(axis=1) para eliminar datos de columna vacios\n",
    "df = df.dropna()\n",
    "\n",
    "# Eliminar filas repetidas\n",
    "df = df.drop_duplicates()\n",
    "\n",
    "# Crear el archivo csv\n",
    "df.to_csv(\"datos_creados.csv\")\n",
    "\n",
    "print(df)"
   ]
  }
 ],
 "metadata": {
  "kernelspec": {
   "display_name": "Python 3",
   "language": "python",
   "name": "python3"
  },
  "language_info": {
   "codemirror_mode": {
    "name": "ipython",
    "version": 3
   },
   "file_extension": ".py",
   "mimetype": "text/x-python",
   "name": "python",
   "nbconvert_exporter": "python",
   "pygments_lexer": "ipython3",
   "version": "3.12.4"
  }
 },
 "nbformat": 4,
 "nbformat_minor": 2
}
