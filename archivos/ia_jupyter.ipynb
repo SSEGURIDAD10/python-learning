{
 "cells": [
  {
   "cell_type": "code",
   "execution_count": null,
   "metadata": {},
   "outputs": [],
   "source": [
    "import pandas as pd\n",
    "archivo = pd.read_csv(\"datos.csv\")\n",
    "print(archivo)"
   ]
  },
  {
   "cell_type": "code",
   "execution_count": null,
   "metadata": {},
   "outputs": [],
   "source": [
    "def saludar(name):\n",
    "    print(f'Hola {name}')\n",
    "\n",
    "saludar('villagran')"
   ]
  },
  {
   "cell_type": "code",
   "execution_count": null,
   "metadata": {},
   "outputs": [],
   "source": [
    "import pandas as pd\n",
    "df = pd.read_csv(\"datos.csv\", names=[\"name\",\"lastname\",\"age\"]) #Con names=[] agregas hasta arriba de las columnas los valores que quieras como titulo\n",
    "nombres = df[\"name\"]\n",
    "\n",
    "print(df)"
   ]
  },
  {
   "cell_type": "code",
   "execution_count": null,
   "metadata": {},
   "outputs": [],
   "source": [
    "# Slicing\n",
    "cadena = \"0123456789\"\n",
    "\n",
    "print(cadena[4:8+1])"
   ]
  },
  {
   "cell_type": "code",
   "execution_count": 5,
   "metadata": {},
   "outputs": [
    {
     "name": "stdout",
     "output_type": "stream",
     "text": [
      "3\n"
     ]
    }
   ],
   "source": [
    "import pandas as pd\n",
    "df = pd.read_csv(\"datos.csv\")\n",
    "\n",
    "# Orden descendente\n",
    "df_ordenado = df.sort_values(\"edad\", ascending=False)\n",
    "\n",
    "# Concatenando los 2 dataframes\n",
    "df_concatenado = pd.concat([df,df])\n",
    "\n",
    "# Mostrar la o las primeras lineas del csv\n",
    "primeras_filas = df.head(3)\n",
    "\n",
    "#Ultimas filas\n",
    "ultimas_filas = df.tail(2)\n",
    "\n",
    "# Cantidad de filas y columnas con shape\n",
    "filas_y_columnas_totales = df.shape\n",
    "\n",
    "# De esta manera se pueden desempaquetar y asignar los valores en 2 variables\n",
    "filas_totales, columnas_totales = df.shape\n",
    "\n",
    "print(filas_totales)"
   ]
  }
 ],
 "metadata": {
  "kernelspec": {
   "display_name": "Python 3",
   "language": "python",
   "name": "python3"
  },
  "language_info": {
   "codemirror_mode": {
    "name": "ipython",
    "version": 3
   },
   "file_extension": ".py",
   "mimetype": "text/x-python",
   "name": "python",
   "nbconvert_exporter": "python",
   "pygments_lexer": "ipython3",
   "version": "3.12.4"
  }
 },
 "nbformat": 4,
 "nbformat_minor": 2
}
