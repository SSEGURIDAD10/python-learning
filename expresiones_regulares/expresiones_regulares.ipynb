{
 "cells": [
  {
   "cell_type": "code",
   "execution_count": null,
   "metadata": {},
   "outputs": [],
   "source": [
    "import re\n",
    "\n",
    "texto = '''1. Hola, esta es la primera (1 abbbbb) linea de texto\n",
    "22. Esta es la segunda (2222) liea de texto.\n",
    "33. Y esta el la tercera (333 abab abab ab) y ultima linea de texto'''\n",
    "\n",
    "# Me confirma si encontro o no una coincidencia\n",
    "resultado = re.search('Hola', texto)\n",
    "\n",
    "# re.findall -> Hace una busqueda simple de TODAS las coincidencias\n",
    "# re.IGNORECASE -> No distingue entre MAYUS y minus\n",
    "resultado1 = re.findall('esta', texto, flags = re.IGNORECASE)\n",
    "\n",
    "# r -> Indicar que habra entrada de expresiones regulares\n",
    "# \\d -> Busca digitos numéricos del 0-9\n",
    "# \\D -> Busca TODO MENOS digitos numéricos 0-9\n",
    "resultado2 = re.findall(r'\\d', texto)\n",
    "\n",
    "# \\w -> Busca caracteres alfanumericos [a-z, A-Z, 0-9, _]\n",
    "# \\W -> Busca TODO MENOS caracteres alfanumericos [a-z, A-Z, 0-9, _]\n",
    "resultado3 = re.findall(r'\\W', texto)\n",
    "\n",
    "# \\s -> Busca espacios, tabs, saltoss de linea\n",
    "# \\S -> Busca TODO MENOS espacios, tabs, saltoss de linea\n",
    "resultado4 = re.findall(r'\\s', texto)\n",
    "\n",
    "# \\n -> Busca saltos de linea\n",
    "# '.' -> Busca TODOS MENOS saltos de linea. Se una sin \\\n",
    "resultado5 = re.findall(r'\\n', texto)\n",
    "# resultado5 = re.findall(r'.', texto)\n",
    "\n",
    "# \\ -> Cancela caracteres especiales, cancelando la funcion del punto y buscando puntos en su lugar\n",
    "resultado6 = re.findall(r'\\.', texto)\n",
    "\n",
    "# Buscar una coincidencia en el texto con un numero, otro numero, seguido de un punto y despues un espacio\n",
    "resultado7 = re.findall(r'\\d\\d\\.\\s', texto)\n",
    "\n",
    "# ^ -> Busca lo que escribes despues (^Hola) en el comienzo de una linea\n",
    "# resultado8 = re.findall(r'^Hola', texto) -> False\n",
    "# flags = re.M -> Incluye TODAS las PRIMERAS lineas\n",
    "resultado8 = re.findall(r'^33. y esta', texto, flags = re.M | re.IGNORECASE)\n",
    "\n",
    "# $ -> Busca conincidencia al final de la linea\n",
    "resultado9 = re.findall(r'texto$', texto, flags = re.M)\n",
    "\n",
    "# {n} -> Bucsa n cantidad de veces el valor de la izquierda\n",
    "resultado10 = re.findall(r'\\d{3}', texto)\n",
    "\n",
    "# {n,m} -> Rangos, n como minimo, m como maximo\n",
    "resultado11 = re.findall(r'\\d{2,3}', texto)\n",
    "# Esta busqueda solo afecta al termino b, todo antes del ultimo carcater queda intacto\n",
    "resultado12 = re.findall(r'ab{2,3}', texto)\n",
    "# Esta busqueda es en GRUPO\n",
    "resultado13 = re.findall(r'(ab){2,3}', texto)\n",
    "\n",
    "# Esta busqueda con [] devuelve TODOS los GRUPOS e Individulaes\n",
    "resultado13 = re.findall(r'[ab]{2}', texto)\n",
    "\n",
    "# | -> Busca uno u otro, LOS ESPACION DENTRO DE ' | ' SON IMPORTANTES PARA GENERAR UN RESULTADO\n",
    "resultado14 = re.findall(r'\\d{2} |Hola', texto)\n",
    "\n",
    "print(resultado)\n",
    "print(resultado1)\n",
    "print(resultado2)\n",
    "print(resultado3)\n",
    "print(resultado4)\n",
    "print(resultado5)\n",
    "print(resultado6)\n",
    "print(resultado7)\n",
    "print(resultado8)\n",
    "print(resultado9)\n",
    "print(resultado10)\n",
    "print(resultado11)\n",
    "print(resultado12)\n",
    "print(resultado13)\n",
    "print(resultado14)"
   ]
  },
  {
   "cell_type": "code",
   "execution_count": null,
   "metadata": {},
   "outputs": [],
   "source": [
    "import re\n",
    "\n",
    "# La cadena en la que se buscarán los patrones\n",
    "text = 'La fecha es 20/06/2000 y el telefono es 5512345678'\n",
    "\n",
    "# El patron a buscar\n",
    "patron = r'\\d{2}/\\d{2}/\\d{4}'\n",
    "\n",
    "# El texto con el que se reemplazará\n",
    "remplazar = '**/**/****'\n",
    "\n",
    "# Reemplazar todas las apariciones del patron en la cadena de texto\n",
    "new_text = re.sub(patron, remplazar, text)\n",
    "\n",
    "print(f'Texto modificado: {new_text}')"
   ]
  },
  {
   "cell_type": "code",
   "execution_count": 3,
   "metadata": {},
   "outputs": [
    {
     "name": "stdout",
     "output_type": "stream",
     "text": [
      "Texto modificado: R**mpl*z*nd* t*d*s l*s v*c*l*s p*r *st*r*sc*\n"
     ]
    }
   ],
   "source": [
    "import re\n",
    "\n",
    "# La cadena en la que se buscarán los patrones\n",
    "text = 'Reemplazando todas las vocales por asteriscos'\n",
    "\n",
    "# Reemplazar todas las apariciones del patron en la cadena de texto\n",
    "new_text = re.sub('[aeiou]', '*', text)\n",
    "\n",
    "print(f'Texto modificado: {new_text}')"
   ]
  }
 ],
 "metadata": {
  "kernelspec": {
   "display_name": "Python 3",
   "language": "python",
   "name": "python3"
  },
  "language_info": {
   "codemirror_mode": {
    "name": "ipython",
    "version": 3
   },
   "file_extension": ".py",
   "mimetype": "text/x-python",
   "name": "python",
   "nbconvert_exporter": "python",
   "pygments_lexer": "ipython3",
   "version": "3.12.4"
  }
 },
 "nbformat": 4,
 "nbformat_minor": 2
}
